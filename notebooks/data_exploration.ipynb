{
 "cells": [
  {
   "cell_type": "code",
   "execution_count": null,
   "id": "2fe823bc",
   "metadata": {},
   "outputs": [],
   "source": [
    "import sys\n",
    "import os\n",
    "import sys\n",
    "\n",
    "# Set the path to the scripts directory\n",
    "scripts_path = os.path.abspath('C:/Users/Nicholas Bing/Documents/App_logs_anomaly_detection/scripts')\n",
    "\n",
    "# Add the scripts directory to the system path\n",
    "sys.path.append(scripts_path)\n",
    "\n",
    "# Launch Jupyter Notebook\n",
    "os.system('jupyter notebook')\n",
    "\n",
    "import unittest\n",
    "import pandas as pd\n",
    "import matplotlib.pyplot as plt\n",
    "from pymongo import MongoClient\n",
    "from scripts.real_time_inference import get_latest_data\n",
    "\n",
    "# Connect to the NoSQL database\n",
    "mongo_uri = \"mongodb://localhost:27017\"\n",
    "client = MongoClient(mongo_uri)\n",
    "db = client['log_database']\n",
    "collection = db['logs']\n",
    "\n",
    "class TestRealTimeInference(unittest.TestCase):\n",
    "    def test_get_latest_data(self):\n",
    "        data, missing_values = get_latest_data()\n",
    "        self.assertGreater(len(data), 0, \"There should be some data in the database.\")\n",
    "        self.assertEqual(len(missing_values), 0, \"There should be no missing values.\")\n",
    "\n",
    "if __name__ == \"__main__\":\n",
    "    unittest.main()"
   ]
  },
  {
   "cell_type": "code",
   "execution_count": null,
   "id": "0b35ccb4",
   "metadata": {},
   "outputs": [],
   "source": [
    "import os\n",
    "print(os.getcwd())\n",
    "sys.path.append(os.path.abspath(os.path.join(os.getcwd(), 'scripts', '..')))\n"
   ]
  },
  {
   "cell_type": "markdown",
   "id": "7e0370a1",
   "metadata": {},
   "source": []
  },
  {
   "cell_type": "markdown",
   "id": "534e950e",
   "metadata": {},
   "source": [
    "# Summary statistics\n",
    "df.describe()"
   ]
  },
  {
   "cell_type": "code",
   "execution_count": null,
   "id": "3fd1f4e0",
   "metadata": {},
   "outputs": [],
   "source": [
    "\n",
    "df = pd.DataFrame(list(collection.find().sort('_id', -1).limit(100)))\n",
    "\n",
    "# Check for missing values\n",
    "missing_values = df.isnull().sum()\n",
    "missing_values[missing_values > 0]\n",
    "\n",
    "def fetch_latest_data():\n",
    "    # Fetch the latest data from the NoSQL database\n",
    "    df = pd.DataFrame(list(collection.find().sort('_id', -1).limit(100)))\n",
    "    \n",
    "    # Check for missing values\n",
    "    missing_values = df.isnull().sum()\n",
    "    return df, missing_values[missing_values > 0]"
   ]
  },
  {
   "cell_type": "code",
   "execution_count": null,
   "id": "320608f9",
   "metadata": {},
   "outputs": [],
   "source": [
    "# Visualize the distribution of a specific metric\n",
    "plt.figure(figsize=(10, 6))\n",
    "plt.hist(df['metric1'], bins=30, alpha=0.7, color='blue')\n",
    "plt.title('Distribution of Metric 1')\n",
    "plt.xlabel('Metric 1')\n",
    "plt.ylabel('Frequency')\n",
    "plt.grid()\n",
    "plt.show()"
   ]
  }
 ],
 "metadata": {
  "kernelspec": {
   "display_name": "Python 3",
   "language": "python",
   "name": "python3"
  },
  "language_info": {
   "codemirror_mode": {
    "name": "ipython",
    "version": 3
   },
   "file_extension": ".py",
   "mimetype": "text/x-python",
   "name": "python",
   "nbconvert_exporter": "python",
   "pygments_lexer": "ipython3",
   "version": "3.11.4"
  }
 },
 "nbformat": 4,
 "nbformat_minor": 5
}
