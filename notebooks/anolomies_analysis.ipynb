{
 "cells": [
  {
   "cell_type": "code",
   "execution_count": 1,
   "id": "4534f0fe",
   "metadata": {},
   "outputs": [
    {
     "ename": "ModuleNotFoundError",
     "evalue": "No module named 'scripts.log_management'",
     "output_type": "error",
     "traceback": [
      "\u001b[31m---------------------------------------------------------------------------\u001b[39m",
      "\u001b[31mModuleNotFoundError\u001b[39m                       Traceback (most recent call last)",
      "\u001b[36mCell\u001b[39m\u001b[36m \u001b[39m\u001b[32mIn[1]\u001b[39m\u001b[32m, line 11\u001b[39m\n\u001b[32m      9\u001b[39m \u001b[38;5;28;01mimport\u001b[39;00m\u001b[38;5;250m \u001b[39m\u001b[34;01mmatplotlib\u001b[39;00m\u001b[34;01m.\u001b[39;00m\u001b[34;01mpyplot\u001b[39;00m\u001b[38;5;250m \u001b[39m\u001b[38;5;28;01mas\u001b[39;00m\u001b[38;5;250m \u001b[39m\u001b[34;01mplt\u001b[39;00m\n\u001b[32m     10\u001b[39m \u001b[38;5;28;01mimport\u001b[39;00m\u001b[38;5;250m \u001b[39m\u001b[34;01mseaborn\u001b[39;00m\u001b[38;5;250m \u001b[39m\u001b[38;5;28;01mas\u001b[39;00m\u001b[38;5;250m \u001b[39m\u001b[34;01msns\u001b[39;00m\n\u001b[32m---> \u001b[39m\u001b[32m11\u001b[39m \u001b[38;5;28;01mfrom\u001b[39;00m\u001b[38;5;250m \u001b[39m\u001b[34;01mscripts\u001b[39;00m\u001b[34;01m.\u001b[39;00m\u001b[34;01mlog_management\u001b[39;00m\u001b[38;5;250m \u001b[39m\u001b[38;5;28;01mimport\u001b[39;00m LogDB  \u001b[38;5;66;03m# Adjusted import\u001b[39;00m\n\u001b[32m     13\u001b[39m \u001b[38;5;66;03m# Load the data\u001b[39;00m\n\u001b[32m     14\u001b[39m log_db = LogDB()\n",
      "\u001b[31mModuleNotFoundError\u001b[39m: No module named 'scripts.log_management'"
     ]
    }
   ],
   "source": [
    "\n",
    "import sys\n",
    "import os\n",
    "\n",
    "# Add the scripts directory to the Python path\n",
    "scripts_path = os.path.join(os.getcwd(), 'scripts')\n",
    "sys.path.append(scripts_path)\n",
    "\n",
    "import pandas as pd\n",
    "import matplotlib.pyplot as plt\n",
    "import seaborn as sns\n",
    "from scripts.log_management import LogDB  # Adjusted import\n",
    "\n",
    "# Load the data\n",
    "log_db = LogDB()\n",
    "anomalies = log_db.get_anomalies()\n",
    "\n",
    "# If there are no anomalies, exit the notebook\n",
    "if anomalies.empty:\n",
    "    print(\"No anomalies detected.\")\n",
    "else:\n",
    "    print(f\"Detected anomalies:\\n{anomalies}\")\n",
    "\n",
    "    # Visualize anomalies\n",
    "    plt.figure(figsize=(12, 6))\n",
    "    sns.countplot(data=anomalies, x='anomaly_type')  # Assuming 'anomaly_type' column exists\n",
    "    plt.title('Count of Detected Anomalies by Type')\n",
    "    plt.xticks(rotation=45)\n",
    "    plt.ylabel('Count')\n",
    "    plt.xlabel('Anomaly Type')\n",
    "    plt.show()\n",
    "\n",
    "    # Additional analysis: Time series of anomalies\n",
    "    anomalies['timestamp'] = pd.to_datetime(anomalies['timestamp'])  # Assuming 'timestamp' column exists\n",
    "    anomalies.set_index('timestamp', inplace=True)\n",
    "\n",
    "    plt.figure(figsize=(12, 6))\n",
    "    anomalies.resample('H').count()['anomaly_type'].plot()  # Resampling hourly\n",
    "    plt.title('Anomalies Over Time')\n",
    "    plt.ylabel('Count of Anomalies')\n",
    "    plt.xlabel('Time')\n",
    "    plt.show()"
   ]
  },
  {
   "cell_type": "code",
   "execution_count": null,
   "id": "518f1161",
   "metadata": {},
   "outputs": [],
   "source": [
    "# Count the number of anomalies detected\n",
    "anomaly_count = anomalies_df['anomaly'].value_counts()\n",
    "anomaly_count"
   ]
  },
  {
   "cell_type": "code",
   "execution_count": null,
   "id": "5b005fa7",
   "metadata": {},
   "outputs": [],
   "source": [
    "# Visualize anomalies over time\n",
    "plt.figure(figsize=(12, 6))\n",
    "plt.plot(anomalies_df['timestamp'], anomalies_df['metric1'], 'ro')\n",
    "plt.title('Anomalies Detected Over Time')\n",
    "plt.xlabel('Time')\n",
    "plt.ylabel('Metric 1')\n",
    "plt.xticks(rotation=45)\n",
    "plt.grid()\n",
    "plt.show()"
   ]
  },
  {
   "cell_type": "code",
   "execution_count": null,
   "id": "56799353",
   "metadata": {},
   "outputs": [],
   "source": []
  }
 ],
 "metadata": {
  "kernelspec": {
   "display_name": "Python 3.11.4 (venv)",
   "language": "python",
   "name": "myenv"
  },
  "language_info": {
   "codemirror_mode": {
    "name": "ipython",
    "version": 3
   },
   "file_extension": ".py",
   "mimetype": "text/x-python",
   "name": "python",
   "nbconvert_exporter": "python",
   "pygments_lexer": "ipython3",
   "version": "3.11.4"
  }
 },
 "nbformat": 4,
 "nbformat_minor": 5
}
