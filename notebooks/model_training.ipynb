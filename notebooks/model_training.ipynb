{
 "cells": [
  {
   "cell_type": "code",
   "execution_count": null,
   "id": "cfa1408a",
   "metadata": {},
   "outputs": [],
   "source": []
  },
  {
   "cell_type": "code",
   "execution_count": 1,
   "id": "af67ebcb",
   "metadata": {},
   "outputs": [
    {
     "name": "stdout",
     "output_type": "stream",
     "text": [
      "Data preprocessing complete and files saved successfully.\n"
     ]
    }
   ],
   "source": [
    "\n",
    "import pandas as pd\n",
    "import sys\n",
    "import os\n",
    "from sklearn.model_selection import train_test_split\n",
    "from sklearn.preprocessing import StandardScaler\n",
    "from sklearn.preprocessing import OneHotEncoder\n",
    "from sklearn.compose import ColumnTransformer\n",
    "from sklearn.pipeline import Pipeline\n",
    "\n",
    "def load_module(module_name, path):\n",
    "    \"\"\"Dynamically load a module from a given path.\"\"\"\n",
    "    import importlib.util\n",
    "    spec = importlib.util.spec_from_file_location(module_name, path)\n",
    "    module = importlib.util.module_from_spec(spec)\n",
    "    spec.loader.exec_module(module)\n",
    "    return module\n",
    "\n",
    "# Construct the path to model.py\n",
    "model_path = os.path.join(os.getcwd(), '..', 'scripts', 'model.py')\n",
    "\n",
    "# Load the module dynamically\n",
    "model_module = load_module(\"model\", model_path)\n",
    "\n",
    "# Access the classes\n",
    "RandomForestModel = model_module.RandomForestModel\n",
    "NeuralNetworkModel = model_module.NeuralNetworkModel\n",
    "\n",
    "# Construct the path to the CSV file\n",
    "csv_file_path = os.path.abspath(os.path.join('..', 'data', 'logs.csv'))\n",
    "\n",
    "# Check if the CSV file exists\n",
    "if not os.path.isfile(csv_file_path):\n",
    "    raise FileNotFoundError(f\"No such file: '{csv_file_path}'\")\n",
    "\n",
    "# Check if the file is empty\n",
    "if os.path.getsize(csv_file_path) == 0:\n",
    "    raise ValueError(f\"The CSV file is empty: '{csv_file_path}'\")\n",
    "\n",
    "# Load and preprocess the data\n",
    "try:\n",
    "    data = pd.read_csv(csv_file_path)  # Load your log data\n",
    "    if data.empty:\n",
    "        raise ValueError(\"The CSV file is empty.\")\n",
    "except Exception as e:\n",
    "    print(f\"Error loading data: {e}\")\n",
    "    raise\n",
    "\n",
    "# Proceed with preprocessing\n",
    "if 'anomaly' not in data.columns:\n",
    "    raise ValueError(\"The 'anomaly' column is missing from the data.\")\n",
    "\n",
    "# Features and target variable\n",
    "X = data.drop('anomaly', axis=1)  # Features\n",
    "y = data['anomaly']                # Labels\n",
    "\n",
    "# Convert timestamps to datetime and extract features\n",
    "if 'Timestamp' in X.columns:\n",
    "    X['Timestamp'] = pd.to_datetime(X['Timestamp'])\n",
    "    X['Year'] = X['Timestamp'].dt.year\n",
    "    X['Month'] = X['Timestamp'].dt.month\n",
    "    X['Day'] = X['Timestamp'].dt.day\n",
    "    X['Hour'] = X['Timestamp'].dt.hour\n",
    "    X['Minute'] = X['Timestamp'].dt.minute\n",
    "    X.drop('Timestamp', axis=1, inplace=True)  # Drop original timestamp\n",
    "\n",
    "# Identify categorical columns\n",
    "categorical_cols = X.select_dtypes(include=['object']).columns.tolist()\n",
    "\n",
    "# Create a pipeline for preprocessing\n",
    "preprocessor = ColumnTransformer(\n",
    "    transformers=[\n",
    "        ('num', StandardScaler(), X.select_dtypes(include=['int64', 'float64']).columns),\n",
    "        ('cat', OneHotEncoder(), categorical_cols)\n",
    "    ]\n",
    ")\n",
    "\n",
    "# Split the data\n",
    "X_train, X_test, y_train, y_test = train_test_split(X, y, test_size=0.2, random_state=42)\n",
    "\n",
    "# Fit and transform the features\n",
    "X_train = preprocessor.fit_transform(X_train)\n",
    "X_test = preprocessor.transform(X_test)\n",
    "\n",
    "# Save preprocessed data for later use\n",
    "os.makedirs('../data/processed', exist_ok=True)  # Ensure the directory exists\n",
    "pd.DataFrame(X_train).to_csv('../data/processed/X_train.csv', index=False)\n",
    "pd.DataFrame(X_test).to_csv('../data/processed/X_test.csv', index=False)\n",
    "pd.Series(y_train).to_csv('../data/processed/y_train.csv', index=False)\n",
    "pd.Series(y_test).to_csv('../data/processed/y_test.csv', index=False)\n",
    "\n",
    "print(\"Data preprocessing complete and files saved successfully.\")"
   ]
  },
  {
   "cell_type": "code",
   "execution_count": 2,
   "id": "205d6e04",
   "metadata": {},
   "outputs": [
    {
     "name": "stdout",
     "output_type": "stream",
     "text": [
      "c:\\Users\\Nicholas Bing\\Documents\\App_logs_anomaly_detection\\notebooks\n"
     ]
    }
   ],
   "source": [
    "import os\n",
    "print(os.getcwd())\n",
    "sys.path.append(os.path.abspath(os.path.join(os.getcwd(), 'scripts', '..')))\n"
   ]
  }
 ],
 "metadata": {
  "kernelspec": {
   "display_name": "Python 3.11.4 (venv)",
   "language": "python",
   "name": "myenv"
  },
  "language_info": {
   "codemirror_mode": {
    "name": "ipython",
    "version": 3
   },
   "file_extension": ".py",
   "mimetype": "text/x-python",
   "name": "python",
   "nbconvert_exporter": "python",
   "pygments_lexer": "ipython3",
   "version": "3.11.4"
  }
 },
 "nbformat": 4,
 "nbformat_minor": 5
}
